{
  "nbformat": 4,
  "nbformat_minor": 0,
  "metadata": {
    "colab": {
      "name": "oneshotencoding.ipynb",
      "provenance": [],
      "authorship_tag": "ABX9TyOJctJ8Qm2EI4/EBVZurw9s",
      "include_colab_link": true
    },
    "kernelspec": {
      "name": "python3",
      "display_name": "Python 3"
    },
    "language_info": {
      "name": "python"
    }
  },
  "cells": [
    {
      "cell_type": "markdown",
      "metadata": {
        "id": "view-in-github",
        "colab_type": "text"
      },
      "source": [
        "<a href=\"https://colab.research.google.com/github/griffinsnest/OneHotEncoding/blob/main/oneshotencoding.ipynb\" target=\"_parent\"><img src=\"https://colab.research.google.com/assets/colab-badge.svg\" alt=\"Open In Colab\"/></a>"
      ]
    },
    {
      "cell_type": "code",
      "metadata": {
        "colab": {
          "base_uri": "https://localhost:8080/"
        },
        "id": "NYoD3bb_MxEq",
        "outputId": "3241dba7-e5c4-4a6f-fcb3-403a105cbdc7"
      },
      "source": [
        "import pandas as pd\n",
        "import numpy as np\n",
        "from sklearn import linear_model as lm\n",
        "from sklearn.preprocessing import LabelEncoder\n",
        "from sklearn.preprocessing import OneHotEncoder\n",
        "from sklearn.model_selection import train_test_split\n",
        "import matplotlib.pyplot as plt\n",
        "\n",
        "university_towns = []\n",
        "\n",
        "with open('/content/university_towns.txt') as file:\n",
        "  for line in file:\n",
        "    if '[edit]' in line:\n",
        "      state = line\n",
        "    else:\n",
        "      university_towns.append((state, line))\n",
        "\n",
        "university_towns[:10]\n",
        "\n",
        "towns_df = pd.DataFrame(university_towns, columns=['State', 'RegionName'])\n",
        "\n",
        "#towns_df['State'] = towns_df['State'].str.replace(\"\\[edit\\]\\\\n\", '')\n",
        "\n",
        "def get_city(item):\n",
        "  if \" (\" in item:\n",
        "    return item[:item.find(')')+1]\n",
        "  elif '[' in item:\n",
        "    return item[:item.find('[')]\n",
        "  else:\n",
        "    return item\n",
        "\n",
        "towns_df = towns_df.applymap(get_city)\n",
        "\n",
        "new = towns_df[\"RegionName\"].str.split(\" \\(\", n = 1, expand = True)\n",
        "  \n",
        "# making separate first name column from new data frame\n",
        "towns_df[\"City\"]= new[0]\n",
        "  \n",
        "# making separate last name column from new data frame\n",
        "towns_df[\"University\"]= new[1]\n",
        "\n",
        "towns_df[\"University\"]= towns_df[\"University\"].str.replace(')', '')\n",
        "  \n",
        "# Dropping old Name columns\n",
        "towns_df.drop(columns =[\"RegionName\"], inplace = True)\n",
        "\n",
        "label_encoder = LabelEncoder()\n",
        "\n",
        "towns_df['StateEncoded'] = label_encoder.fit_transform(towns_df['State'])\n",
        "\n",
        "towns_df['ScldStateEncoded'] = round(towns_df['StateEncoded'].apply(lambda x: (x - towns_df['StateEncoded'].mean()) / (towns_df['StateEncoded'].std()) ), 2)\n",
        "\n",
        "\n",
        "#print(towns_df.sample(5))\n",
        "\n",
        "towns_df = towns_df.head().dropna()\n",
        "\n",
        "states = towns_df['State']\n",
        "\n",
        "towns_df = towns_df.drop(['State'], axis=1)\n",
        "\n",
        "#print(towns_df.head())\n",
        "\n",
        "data_column_category = towns_df.select_dtypes(exclude=[np.number]).columns\n",
        "data_column_numeric = towns_df.select_dtypes(include=[np.number]).columns\n",
        "\n",
        "df_oneshot_getdummies = pd.get_dummies(towns_df[data_column_category], prefix=data_column_category)\n",
        "\n",
        "#print(df_oneshot_getdummies.sample(5))\n",
        "\n",
        "final_towns_df = pd.concat([df_oneshot_getdummies, towns_df[data_column_numeric]], axis=1)\n",
        "\n",
        "final_towns_df = final_towns_df.dropna()\n",
        "\n",
        "final_towns_df['States'] = states\n",
        "\n",
        "final_towns_df.head()\n",
        "\n",
        "X_train, X_test, Y_train, Y_test = train_test_split(final_towns_df[final_towns_df.columns.difference(['StateEncoded', 'ScldStateEncoded', 'States'])], final_towns_df['ScldStateEncoded'], test_size=.25)\n",
        "\n",
        "#xb = np.array(X_train)\n",
        "#xb = xb.reshape(-1,1)\n",
        "#yb = np.array(Y_train)\n",
        "#yb = yb.reshape(-1,1)\n",
        "\n",
        "#xb_test = np.array(X_test)\n",
        "#xb_test = xb.reshape(-1,1)\n",
        "#yb_test = np.array(Y_test)\n",
        "#yb_test = yb.reshape(-1,1)\n",
        "\n",
        "#TestModel = lm.LinearRegression().fit(xb,yb)\n",
        "#TMscore = TestModel.score(xb_test, yb_test)\n",
        "\n",
        "#print('\\nThe Test model has an linear regression accuracy of:  ', BMscore, sep=\"\")\n",
        "#print('\\nThe parameters for the best model are :\\n m = ', bestModel.coef_, '\\n b = ', bestModel.intercept_)\n",
        "\n",
        "#multivariate example\n",
        "xtm = final_towns_df[final_towns_df.columns.difference(['StateEncoded', 'ScldStateEncoded', 'States'])]\n",
        "ytm = np.array(final_towns_df['ScldStateEncoded'])\n",
        "ytm = ytm.reshape(-1,1)\n",
        "\n",
        "testModelm = lm.LinearRegression().fit(xtm,ytm)\n",
        "Testscorem = testModelm.score(xtm,ytm)\n",
        "\n",
        "print('\\nUsing multiple input features and avoiding other tax revenue components, gives a linear regression accuracy of:  ', Testscorem, sep=\"\")\n",
        "print('\\nThe parameters for the best multivariate model are :\\n m = ', testModelm.coef_, '\\n b = ', testModelm.intercept_)"
      ],
      "execution_count": 20,
      "outputs": [
        {
          "output_type": "stream",
          "name": "stdout",
          "text": [
            "\n",
            "Using multiple input features and avoiding other tax revenue components, gives a linear regression accuracy of:  1.0\n",
            "\n",
            "The parameters for the best multivariate model are :\n",
            " m =  [[0. 0. 0. 0. 0. 0. 0. 0. 0. 0.]] \n",
            " b =  [-1.9]\n"
          ]
        }
      ]
    }
  ]
}