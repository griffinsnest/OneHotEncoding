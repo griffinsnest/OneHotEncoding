{
  "nbformat": 4,
  "nbformat_minor": 0,
  "metadata": {
    "colab": {
      "name": "oneshotencoding.ipynb",
      "provenance": [],
      "authorship_tag": "ABX9TyNrMcqGdNh/rYfD9jOx0EWB",
      "include_colab_link": true
    },
    "kernelspec": {
      "name": "python3",
      "display_name": "Python 3"
    },
    "language_info": {
      "name": "python"
    }
  },
  "cells": [
    {
      "cell_type": "markdown",
      "metadata": {
        "id": "view-in-github",
        "colab_type": "text"
      },
      "source": [
        "<a href=\"https://colab.research.google.com/github/griffinsnest/OneHotEncoding/blob/main/oneshotencoding.ipynb\" target=\"_parent\"><img src=\"https://colab.research.google.com/assets/colab-badge.svg\" alt=\"Open In Colab\"/></a>"
      ]
    },
    {
      "cell_type": "code",
      "metadata": {
        "colab": {
          "base_uri": "https://localhost:8080/",
          "height": 538
        },
        "id": "NYoD3bb_MxEq",
        "outputId": "8d5954b7-832c-46b1-b735-10635c0e63e6"
      },
      "source": [
        "import pandas as pd\n",
        "import numpy as np\n",
        "from sklearn import linear_model as lm\n",
        "from sklearn.preprocessing import LabelEncoder\n",
        "from sklearn.preprocessing import OneHotEncoder\n",
        "from sklearn.model_selection import train_test_split\n",
        "import matplotlib.pyplot as plt\n",
        "\n",
        "university_towns = []\n",
        "\n",
        "with open('/content/university_towns.txt') as file:\n",
        "  for line in file:\n",
        "    if '[edit]' in line:\n",
        "      state = line\n",
        "    else:\n",
        "      university_towns.append((state, line))\n",
        "\n",
        "university_towns[:10]\n",
        "\n",
        "towns_df = pd.DataFrame(university_towns, columns=['State', 'RegionName'])\n",
        "\n",
        "#towns_df['State'] = towns_df['State'].str.replace(\"\\[edit\\]\\\\n\", '')\n",
        "\n",
        "def get_city(item):\n",
        "  if \" (\" in item:\n",
        "    return item[:item.find(')')+1]\n",
        "  elif '[' in item:\n",
        "    return item[:item.find('[')]\n",
        "  else:\n",
        "    return item\n",
        "\n",
        "towns_df = towns_df.applymap(get_city)\n",
        "\n",
        "new = towns_df[\"RegionName\"].str.split(\" \\(\", n = 1, expand = True)\n",
        "  \n",
        "# making separate first name column from new data frame\n",
        "towns_df[\"City\"]= new[0]\n",
        "  \n",
        "# making separate last name column from new data frame\n",
        "towns_df[\"University\"]= new[1]\n",
        "\n",
        "towns_df[\"University\"]= towns_df[\"University\"].str.replace(')', '')\n",
        "  \n",
        "# Dropping old Name columns\n",
        "towns_df.drop(columns =[\"RegionName\"], inplace = True)\n",
        "\n",
        "label_encoder = LabelEncoder()\n",
        "\n",
        "towns_df['StateEncoded'] = label_encoder.fit_transform(towns_df['State'])\n",
        "\n",
        "towns_df['ScldStateEncoded'] = round(towns_df['StateEncoded'].apply(lambda x: (x - towns_df['StateEncoded'].mean()) / (towns_df['StateEncoded'].std()) ), 2)\n",
        "\n",
        "\n",
        "#print(towns_df.sample(5))\n",
        "\n",
        "towns_df = towns_df.head().dropna()\n",
        "\n",
        "states = towns_df['State']\n",
        "\n",
        "towns_df = towns_df.drop(['State'], axis=1)\n",
        "\n",
        "#print(towns_df.head())\n",
        "\n",
        "data_column_category = towns_df.select_dtypes(exclude=[np.number]).columns\n",
        "data_column_numeric = towns_df.select_dtypes(include=[np.number]).columns\n",
        "\n",
        "df_oneshot_getdummies = pd.get_dummies(towns_df[data_column_category], prefix=data_column_category)\n",
        "\n",
        "#print(df_oneshot_getdummies.sample(5))\n",
        "\n",
        "final_towns_df = pd.concat([df_oneshot_getdummies, towns_df[data_column_numeric]], axis=1)\n",
        "\n",
        "final_towns_df = final_towns_df.dropna()\n",
        "\n",
        "final_towns_df['States'] = states\n",
        "\n",
        "final_towns_df.head()\n",
        "\n",
        "#multivariate example\n",
        "xtm = final_towns_df[final_towns_df.columns.difference(['StateEncoded', 'ScldStateEncoded', 'States'])]\n",
        "ytm = np.array(final_towns_df['ScldStateEncoded'])\n",
        "ytm = ytm.reshape(-1,1)\n",
        "\n",
        "testModelm = lm.LinearRegression().fit(xtm,ytm)\n",
        "Testscorem = testModelm.score(xtm,ytm)\n",
        "\n",
        "print('\\nUsing multiple input features and avoiding other tax revenue components, gives a linear regression accuracy of:  ', Testscorem, sep=\"\")\n",
        "print('\\nThe parameters for the best multivariate model are :\\n m = ', testModelm.coef_, '\\n b = ', testModelm.intercept_)\n",
        "\n",
        "X_train, X_test, Y_train, Y_test = train_test_split(final_towns_df[final_towns_df.columns.difference(['StateEncoded', 'ScldStateEncoded', 'States'])],\n",
        "                                                    final_towns_df['ScldStateEncoded'], test_size=.25)\n",
        "\n",
        "xb = np.array(X_train)\n",
        "print(xb.shape)\n",
        "yb = np.array(Y_train)\n",
        "yb = yb.reshape(-1,1)\n",
        "print(yb.shape)\n",
        "\n",
        "xb_test = np.array(X_test)\n",
        "print(xb_test.shape)\n",
        "yb_test = np.array(Y_test)\n",
        "yb_test = yb.reshape(-1,1)\n",
        "print(yb_test.shape)\n",
        "\n",
        "TestModel = lm.LinearRegression().fit(xb,yb)\n",
        "TMscore = TestModel.score(xb_test, yb_test)\n",
        "\n",
        "print('\\nThe Test model has an linear regression accuracy of:  ', BMscore, sep=\"\")\n",
        "print('\\nThe parameters for the best model are :\\n m = ', bestModel.coef_, '\\n b = ', bestModel.intercept_)\n"
      ],
      "execution_count": 34,
      "outputs": [
        {
          "output_type": "stream",
          "name": "stdout",
          "text": [
            "\n",
            "Using multiple input features and avoiding other tax revenue components, gives a linear regression accuracy of:  1.0\n",
            "\n",
            "The parameters for the best multivariate model are :\n",
            " m =  [[0. 0. 0. 0. 0. 0. 0. 0. 0. 0.]] \n",
            " b =  [-1.9]\n",
            "(3, 10)\n",
            "(3, 1)\n",
            "(2, 10)\n",
            "(3, 1)\n"
          ]
        },
        {
          "output_type": "error",
          "ename": "ValueError",
          "evalue": "ignored",
          "traceback": [
            "\u001b[0;31m---------------------------------------------------------------------------\u001b[0m",
            "\u001b[0;31mValueError\u001b[0m                                Traceback (most recent call last)",
            "\u001b[0;32m<ipython-input-34-6b6c0c8d2cd0>\u001b[0m in \u001b[0;36m<module>\u001b[0;34m()\u001b[0m\n\u001b[1;32m    104\u001b[0m \u001b[0;34m\u001b[0m\u001b[0m\n\u001b[1;32m    105\u001b[0m \u001b[0mTestModel\u001b[0m \u001b[0;34m=\u001b[0m \u001b[0mlm\u001b[0m\u001b[0;34m.\u001b[0m\u001b[0mLinearRegression\u001b[0m\u001b[0;34m(\u001b[0m\u001b[0;34m)\u001b[0m\u001b[0;34m.\u001b[0m\u001b[0mfit\u001b[0m\u001b[0;34m(\u001b[0m\u001b[0mxb\u001b[0m\u001b[0;34m,\u001b[0m\u001b[0myb\u001b[0m\u001b[0;34m)\u001b[0m\u001b[0;34m\u001b[0m\u001b[0;34m\u001b[0m\u001b[0m\n\u001b[0;32m--> 106\u001b[0;31m \u001b[0mTMscore\u001b[0m \u001b[0;34m=\u001b[0m \u001b[0mTestModel\u001b[0m\u001b[0;34m.\u001b[0m\u001b[0mscore\u001b[0m\u001b[0;34m(\u001b[0m\u001b[0mxb_test\u001b[0m\u001b[0;34m,\u001b[0m \u001b[0myb_test\u001b[0m\u001b[0;34m)\u001b[0m\u001b[0;34m\u001b[0m\u001b[0;34m\u001b[0m\u001b[0m\n\u001b[0m\u001b[1;32m    107\u001b[0m \u001b[0;34m\u001b[0m\u001b[0m\n\u001b[1;32m    108\u001b[0m \u001b[0mprint\u001b[0m\u001b[0;34m(\u001b[0m\u001b[0;34m'\\nThe Test model has an linear regression accuracy of:  '\u001b[0m\u001b[0;34m,\u001b[0m \u001b[0mBMscore\u001b[0m\u001b[0;34m,\u001b[0m \u001b[0msep\u001b[0m\u001b[0;34m=\u001b[0m\u001b[0;34m\"\"\u001b[0m\u001b[0;34m)\u001b[0m\u001b[0;34m\u001b[0m\u001b[0;34m\u001b[0m\u001b[0m\n",
            "\u001b[0;32m/usr/local/lib/python3.7/dist-packages/sklearn/base.py\u001b[0m in \u001b[0;36mscore\u001b[0;34m(self, X, y, sample_weight)\u001b[0m\n\u001b[1;32m    422\u001b[0m         \u001b[0my_pred\u001b[0m \u001b[0;34m=\u001b[0m \u001b[0mself\u001b[0m\u001b[0;34m.\u001b[0m\u001b[0mpredict\u001b[0m\u001b[0;34m(\u001b[0m\u001b[0mX\u001b[0m\u001b[0;34m)\u001b[0m\u001b[0;34m\u001b[0m\u001b[0;34m\u001b[0m\u001b[0m\n\u001b[1;32m    423\u001b[0m         \u001b[0;31m# XXX: Remove the check in 0.23\u001b[0m\u001b[0;34m\u001b[0m\u001b[0;34m\u001b[0m\u001b[0;34m\u001b[0m\u001b[0m\n\u001b[0;32m--> 424\u001b[0;31m         \u001b[0my_type\u001b[0m\u001b[0;34m,\u001b[0m \u001b[0m_\u001b[0m\u001b[0;34m,\u001b[0m \u001b[0m_\u001b[0m\u001b[0;34m,\u001b[0m \u001b[0m_\u001b[0m \u001b[0;34m=\u001b[0m \u001b[0m_check_reg_targets\u001b[0m\u001b[0;34m(\u001b[0m\u001b[0my\u001b[0m\u001b[0;34m,\u001b[0m \u001b[0my_pred\u001b[0m\u001b[0;34m,\u001b[0m \u001b[0;32mNone\u001b[0m\u001b[0;34m)\u001b[0m\u001b[0;34m\u001b[0m\u001b[0;34m\u001b[0m\u001b[0m\n\u001b[0m\u001b[1;32m    425\u001b[0m         \u001b[0;32mif\u001b[0m \u001b[0my_type\u001b[0m \u001b[0;34m==\u001b[0m \u001b[0;34m'continuous-multioutput'\u001b[0m\u001b[0;34m:\u001b[0m\u001b[0;34m\u001b[0m\u001b[0;34m\u001b[0m\u001b[0m\n\u001b[1;32m    426\u001b[0m             warnings.warn(\"The default value of multioutput (not exposed in \"\n",
            "\u001b[0;32m/usr/local/lib/python3.7/dist-packages/sklearn/metrics/_regression.py\u001b[0m in \u001b[0;36m_check_reg_targets\u001b[0;34m(y_true, y_pred, multioutput, dtype)\u001b[0m\n\u001b[1;32m     82\u001b[0m \u001b[0;34m\u001b[0m\u001b[0m\n\u001b[1;32m     83\u001b[0m     \"\"\"\n\u001b[0;32m---> 84\u001b[0;31m     \u001b[0mcheck_consistent_length\u001b[0m\u001b[0;34m(\u001b[0m\u001b[0my_true\u001b[0m\u001b[0;34m,\u001b[0m \u001b[0my_pred\u001b[0m\u001b[0;34m)\u001b[0m\u001b[0;34m\u001b[0m\u001b[0;34m\u001b[0m\u001b[0m\n\u001b[0m\u001b[1;32m     85\u001b[0m     \u001b[0my_true\u001b[0m \u001b[0;34m=\u001b[0m \u001b[0mcheck_array\u001b[0m\u001b[0;34m(\u001b[0m\u001b[0my_true\u001b[0m\u001b[0;34m,\u001b[0m \u001b[0mensure_2d\u001b[0m\u001b[0;34m=\u001b[0m\u001b[0;32mFalse\u001b[0m\u001b[0;34m,\u001b[0m \u001b[0mdtype\u001b[0m\u001b[0;34m=\u001b[0m\u001b[0mdtype\u001b[0m\u001b[0;34m)\u001b[0m\u001b[0;34m\u001b[0m\u001b[0;34m\u001b[0m\u001b[0m\n\u001b[1;32m     86\u001b[0m     \u001b[0my_pred\u001b[0m \u001b[0;34m=\u001b[0m \u001b[0mcheck_array\u001b[0m\u001b[0;34m(\u001b[0m\u001b[0my_pred\u001b[0m\u001b[0;34m,\u001b[0m \u001b[0mensure_2d\u001b[0m\u001b[0;34m=\u001b[0m\u001b[0;32mFalse\u001b[0m\u001b[0;34m,\u001b[0m \u001b[0mdtype\u001b[0m\u001b[0;34m=\u001b[0m\u001b[0mdtype\u001b[0m\u001b[0;34m)\u001b[0m\u001b[0;34m\u001b[0m\u001b[0;34m\u001b[0m\u001b[0m\n",
            "\u001b[0;32m/usr/local/lib/python3.7/dist-packages/sklearn/utils/validation.py\u001b[0m in \u001b[0;36mcheck_consistent_length\u001b[0;34m(*arrays)\u001b[0m\n\u001b[1;32m    210\u001b[0m     \u001b[0;32mif\u001b[0m \u001b[0mlen\u001b[0m\u001b[0;34m(\u001b[0m\u001b[0muniques\u001b[0m\u001b[0;34m)\u001b[0m \u001b[0;34m>\u001b[0m \u001b[0;36m1\u001b[0m\u001b[0;34m:\u001b[0m\u001b[0;34m\u001b[0m\u001b[0;34m\u001b[0m\u001b[0m\n\u001b[1;32m    211\u001b[0m         raise ValueError(\"Found input variables with inconsistent numbers of\"\n\u001b[0;32m--> 212\u001b[0;31m                          \" samples: %r\" % [int(l) for l in lengths])\n\u001b[0m\u001b[1;32m    213\u001b[0m \u001b[0;34m\u001b[0m\u001b[0m\n\u001b[1;32m    214\u001b[0m \u001b[0;34m\u001b[0m\u001b[0m\n",
            "\u001b[0;31mValueError\u001b[0m: Found input variables with inconsistent numbers of samples: [3, 2]"
          ]
        }
      ]
    }
  ]
}